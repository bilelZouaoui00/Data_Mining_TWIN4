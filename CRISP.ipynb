{
 "cells": [
  {
   "cell_type": "code",
   "execution_count": 104,
   "metadata": {},
   "outputs": [],
   "source": [
    "import pandas as pd\n",
    "from mlxtend.frequent_patterns import apriori\n",
    "from mlxtend.frequent_patterns import association_rules\n"
   ]
  },
  {
   "cell_type": "markdown",
   "metadata": {},
   "source": [
    "1.Compréhension des données"
   ]
  },
  {
   "cell_type": "code",
   "execution_count": 105,
   "metadata": {},
   "outputs": [
    {
     "name": "stdout",
     "output_type": "stream",
     "text": [
      "   age           job  marital  education default  balance housing loan  \\\n",
      "0   58    management  married   tertiary      no     2143     yes   no   \n",
      "1   44    technician   single  secondary      no       29     yes   no   \n",
      "2   33  entrepreneur  married  secondary      no        2     yes  yes   \n",
      "3   47   blue-collar  married    unknown      no     1506     yes   no   \n",
      "4   33       unknown   single    unknown      no        1      no   no   \n",
      "\n",
      "   contact  day month  duration  campaign  pdays  previous poutcome   y  \n",
      "0  unknown    5   may       261         1     -1         0  unknown  no  \n",
      "1  unknown    5   may       151         1     -1         0  unknown  no  \n",
      "2  unknown    5   may        76         1     -1         0  unknown  no  \n",
      "3  unknown    5   may        92         1     -1         0  unknown  no  \n",
      "4  unknown    5   may       198         1     -1         0  unknown  no  \n"
     ]
    }
   ],
   "source": [
    "# Charger les données depuis le fichier CSV\n",
    "data_frame = pd.read_csv('bankBI2.csv')\n",
    "# Afficher les 10 premières lignes\n",
    "print(data_frame.head())\n"
   ]
  },
  {
   "cell_type": "code",
   "execution_count": 106,
   "metadata": {},
   "outputs": [
    {
     "name": "stdout",
     "output_type": "stream",
     "text": [
      "Nombre total de données : 768587\n"
     ]
    }
   ],
   "source": [
    "# Afficher le nombre total de données\n",
    "nombre_total_donnees = data_frame.size\n",
    "print(\"Nombre total de données :\", nombre_total_donnees)"
   ]
  },
  {
   "cell_type": "code",
   "execution_count": 107,
   "metadata": {},
   "outputs": [
    {
     "name": "stdout",
     "output_type": "stream",
     "text": [
      "Index(['age', 'job', 'marital', 'education', 'default', 'balance', 'housing',\n",
      "       'loan', 'contact', 'day', 'month', 'duration', 'campaign', 'pdays',\n",
      "       'previous', 'poutcome', 'y'],\n",
      "      dtype='object')\n"
     ]
    }
   ],
   "source": [
    "# Afficher tous les noms de colonnes\n",
    "titres_colonnes = data_frame.columns\n",
    "print(titres_colonnes)"
   ]
  },
  {
   "cell_type": "code",
   "execution_count": 108,
   "metadata": {},
   "outputs": [
    {
     "name": "stdout",
     "output_type": "stream",
     "text": [
      "Attributs de la colonne loan:\n",
      "no\n",
      "yes\n"
     ]
    }
   ],
   "source": [
    "# Nom de la colonne pour afficher ses attributs\n",
    "nom_colonne = \"loan\"\n",
    "\n",
    "# Utilisation de la fonction unique() pour récupérer les attributs de la colonne spécifiée\n",
    "attributs_colonne = data_frame[nom_colonne].unique()\n",
    "\n",
    "# Afficher les attributs de la colonne\n",
    "print(f\"Attributs de la colonne {nom_colonne}:\")\n",
    "for attribut in attributs_colonne:\n",
    "    print(attribut)"
   ]
  },
  {
   "cell_type": "markdown",
   "metadata": {
    "notebookRunGroups": {
     "groupValue": ""
    }
   },
   "source": [
    "2.Préparation des donnée\n",
    "    \n",
    "    2.1.Nettoyage des données"
   ]
  },
  {
   "cell_type": "code",
   "execution_count": 109,
   "metadata": {},
   "outputs": [
    {
     "name": "stderr",
     "output_type": "stream",
     "text": [
      "c:\\Users\\BILEL\\anaconda3\\lib\\site-packages\\pandas\\core\\ops\\array_ops.py:253: FutureWarning: elementwise comparison failed; returning scalar instead, but in the future will perform elementwise comparison\n",
      "  res_values = method(rvalues)\n"
     ]
    }
   ],
   "source": [
    "# Supprimer les lignes avec des valeurs manquantes ou vides\n",
    "data_frame = data_frame.dropna()\n",
    "data_frame = data_frame[data_frame != \"unknown\"].dropna()\n",
    "\n",
    "# Afficher le DataFrame après suppression des lignes\n",
    "# print(data_frame.head())"
   ]
  },
  {
   "cell_type": "code",
   "execution_count": 110,
   "metadata": {},
   "outputs": [
    {
     "name": "stdout",
     "output_type": "stream",
     "text": [
      "Nombre total de données : 133314\n"
     ]
    }
   ],
   "source": [
    "nombre_total_donnees = data_frame.size\n",
    "print(\"Nombre total de données :\", nombre_total_donnees)"
   ]
  },
  {
   "cell_type": "markdown",
   "metadata": {},
   "source": [
    "a. Univariate Analysis"
   ]
  },
  {
   "cell_type": "code",
   "execution_count": 111,
   "metadata": {},
   "outputs": [
    {
     "name": "stdout",
     "output_type": "stream",
     "text": [
      "loan : {'yes': 1, 'no': 0}\n"
     ]
    }
   ],
   "source": [
    "data_frame[\"loan\"] = data_frame[\"loan\"].replace({\"yes\": 1, \"no\": 0})\n",
    "print(\"loan :\",{\"yes\": 1, \"no\": 0} )"
   ]
  },
  {
   "cell_type": "markdown",
   "metadata": {},
   "source": [
    "b. Bivariate Analysis :"
   ]
  },
  {
   "cell_type": "code",
   "execution_count": null,
   "metadata": {},
   "outputs": [],
   "source": [
    "bivariate_analysis = data_frame.corr()  # Matrice de corrélation \n",
    "print(\"Bivariate Analysis:\")\n",
    "print(bivariate_analysis)"
   ]
  },
  {
   "cell_type": "markdown",
   "metadata": {},
   "source": [
    "c. Exploration des insights"
   ]
  },
  {
   "cell_type": "code",
   "execution_count": null,
   "metadata": {},
   "outputs": [],
   "source": []
  },
  {
   "cell_type": "markdown",
   "metadata": {},
   "source": [
    "3.Preprocessing "
   ]
  },
  {
   "cell_type": "markdown",
   "metadata": {},
   "source": [
    "a. Transformation des données"
   ]
  },
  {
   "cell_type": "code",
   "execution_count": null,
   "metadata": {},
   "outputs": [],
   "source": [
    "from sklearn.preprocessing import MinMaxScaler\n",
    "\n",
    "scaler = MinMaxScaler()\n",
    "data_frame['loan_normalized'] = scaler.fit_transform(data_frame[['loan']])\n",
    "print(\"Data after normalization:\")\n",
    "print(data_frame[['loan', 'loan_normalized']].head())"
   ]
  },
  {
   "cell_type": "markdown",
   "metadata": {},
   "source": [
    "b.Feature Engineering (optionnel)"
   ]
  },
  {
   "cell_type": "code",
   "execution_count": null,
   "metadata": {},
   "outputs": [],
   "source": [
    "# Exemple : Créer une nouvelle caractéristique basée sur la combinaison de \"loan\" et \"income\"\n",
    "data_frame['loan_income_ratio'] = data_frame['loan'] / data_frame['income']\n"
   ]
  }
 ],
 "metadata": {
  "kernelspec": {
   "display_name": "base",
   "language": "python",
   "name": "python3"
  },
  "language_info": {
   "codemirror_mode": {
    "name": "ipython",
    "version": 3
   },
   "file_extension": ".py",
   "mimetype": "text/x-python",
   "name": "python",
   "nbconvert_exporter": "python",
   "pygments_lexer": "ipython3",
   "version": "3.8.3"
  }
 },
 "nbformat": 4,
 "nbformat_minor": 2
}
